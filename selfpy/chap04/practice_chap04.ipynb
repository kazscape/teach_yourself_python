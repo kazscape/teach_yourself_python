{
 "metadata": {
  "language_info": {
   "codemirror_mode": {
    "name": "ipython",
    "version": 3
   },
   "file_extension": ".py",
   "mimetype": "text/x-python",
   "name": "python",
   "nbconvert_exporter": "python",
   "pygments_lexer": "ipython3",
   "version": "3.7.6-final"
  },
  "orig_nbformat": 2,
  "kernelspec": {
   "name": "python3",
   "display_name": "Python 3",
   "language": "python"
  }
 },
 "nbformat": 4,
 "nbformat_minor": 2,
 "cells": [
  {
   "source": [
    "# 練習問題 4.1"
   ],
   "cell_type": "markdown",
   "metadata": {}
  },
  {
   "source": [
    "## \\[1\\] 条件分岐構文を使って、90点以上であれば「優」、70点以上90点未満であれば「良」、50点以上70点未満であれば「可」、50点未満の場合は「不可」と表示するコードを作成してみましょう。点数が75点であった場合の結果を表示させてください。"
   ],
   "cell_type": "markdown",
   "metadata": {}
  },
  {
   "cell_type": "code",
   "execution_count": 1,
   "metadata": {},
   "outputs": [
    {
     "output_type": "stream",
     "name": "stdout",
     "text": [
      "良\n"
     ]
    }
   ],
   "source": [
    "score = 75\n",
    "if score >= 90:\n",
    "    print('優')\n",
    "elif score >= 70:\n",
    "    print('良')\n",
    "elif score >=50:\n",
    "    print('可')\n",
    "else:\n",
    "    print('不可')"
   ]
  },
  {
   "source": [
    "## \\[2\\] 条件式「not A and not B」を「not(A or B)」に置き換えられることを、ベン図を使って証明しましょう。"
   ],
   "cell_type": "markdown",
   "metadata": {}
  },
  {
   "source": [
    "![照明](/home/kazuharu/activity/teach_yourself_python/selfpy/chap04/not_AorB.png)"
   ],
   "cell_type": "markdown",
   "metadata": {}
  },
  {
   "source": [
    "# 練習問題 4.2"
   ],
   "cell_type": "markdown",
   "metadata": {}
  },
  {
   "source": [
    "## \\[1\\] for命令を利用して、以下のような九九表を作成してみましょう\n",
    "### ヒント：print命令を引数なしで呼び出すことで、改行だけを出力できます。\n"
   ],
   "cell_type": "markdown",
   "metadata": {}
  },
  {
   "cell_type": "code",
   "execution_count": 7,
   "metadata": {},
   "outputs": [
    {
     "output_type": "stream",
     "name": "stdout",
     "text": [
      "1 2 3 4 5 6 7 8 9 \n2 4 6 8 10 12 14 16 18 \n3 6 9 12 15 18 21 24 27 \n4 8 12 16 20 24 28 32 36 \n5 10 15 20 25 30 35 40 45 \n6 12 18 24 30 36 42 48 54 \n7 14 21 28 35 42 49 56 63 \n8 16 24 32 40 48 56 64 72 \n9 18 27 36 45 54 63 72 81 \n"
     ]
    }
   ],
   "source": [
    "for i in range(1,10):\n",
    "    for j in range(1,10):\n",
    "        result = i * j\n",
    "        print(result, end=' ')\n",
    "    print()\n"
   ]
  },
  {
   "source": [
    "# 練習問題 4.3"
   ],
   "cell_type": "markdown",
   "metadata": {}
  },
  {
   "source": [
    "## \\[1\\] 現在のループをスキップする命令、現在のループを脱出する命令をそれぞれこたえてください。\n",
    "### 現在のループをスキップする命令：continue\n",
    "### 現在のループを脱出する命令：break"
   ],
   "cell_type": "markdown",
   "metadata": {}
  },
  {
   "source": [
    "## \\[2\\] リスト4.16のコードをwhile命令で書き換えてみましょう"
   ],
   "cell_type": "markdown",
   "metadata": {}
  },
  {
   "cell_type": "code",
   "execution_count": 9,
   "metadata": {},
   "outputs": [
    {
     "output_type": "stream",
     "name": "stdout",
     "text": [
      "合計値は 2550 です。\n"
     ]
    }
   ],
   "source": [
    "data = 0\n",
    "\n",
    "for i in range(1,101):\n",
    "    if i % 2 != 0:\n",
    "        continue\n",
    "    data += i\n",
    "print('合計値は',data,'です。')"
   ]
  },
  {
   "cell_type": "code",
   "execution_count": 10,
   "metadata": {},
   "outputs": [
    {
     "output_type": "stream",
     "name": "stdout",
     "text": [
      "合計値は 2550 です。\n"
     ]
    }
   ],
   "source": [
    "i = 1\n",
    "data = 0\n",
    "while i < 101:\n",
    "    if i % 2 == 0:\n",
    "        data += i\n",
    "    i += 1    \n",
    "print('合計値は',data,'です。')"
   ]
  },
  {
   "source": [
    "# 理解度チェック"
   ],
   "cell_type": "markdown",
   "metadata": {}
  },
  {
   "source": [
    "## \\[1\\] 以下は、Pythonの複合文に関する説明です。空欄を埋めて、文章を完成させてください。\n",
    "### 複合文は、配下に複数の文を持ち、それらを実行するかどうかを決めるための文です。条件分岐を表す**if**をはじめ、繰り返しを表す**while**、forなども複合文です。複合文は、1つ以上の**節**から構成されます。**節**は、さらに、**ヘッダー（header）**と**スイート（suite）**とに分類できます。**ヘッダー**は、配下の**スイート**をどのように実行するのかを決める情報を表します。末尾は**コロン（:）**で終えます。**スイート**は**インデント**によって表します。**インデント**は、一般的には半角スペース4個とします。"
   ],
   "cell_type": "markdown",
   "metadata": {}
  },
  {
   "source": [
    "## \\[2\\] 次のようなコードを実際に作成してください。\n",
    "1. リストdataの内容を順に出力する。"
   ],
   "cell_type": "markdown",
   "metadata": {}
  },
  {
   "cell_type": "code",
   "execution_count": 11,
   "metadata": {},
   "outputs": [],
   "source": [
    "data = []\n",
    "for i in data:\n",
    "    print(i)"
   ]
  },
  {
   "source": [
    "2. 1～100の値を順に出力する"
   ],
   "cell_type": "markdown",
   "metadata": {}
  },
  {
   "cell_type": "code",
   "execution_count": 12,
   "metadata": {},
   "outputs": [
    {
     "output_type": "stream",
     "name": "stdout",
     "text": [
      "1\n2\n3\n4\n5\n6\n7\n8\n9\n10\n11\n12\n13\n14\n15\n16\n17\n18\n19\n20\n21\n22\n23\n24\n25\n26\n27\n28\n29\n30\n31\n32\n33\n34\n35\n36\n37\n38\n39\n40\n41\n42\n43\n44\n45\n46\n47\n48\n49\n50\n51\n52\n53\n54\n55\n56\n57\n58\n59\n60\n61\n62\n63\n64\n65\n66\n67\n68\n69\n70\n71\n72\n73\n74\n75\n76\n77\n78\n79\n80\n81\n82\n83\n84\n85\n86\n87\n88\n89\n90\n91\n92\n93\n94\n95\n96\n97\n98\n99\n100\n"
     ]
    }
   ],
   "source": [
    "for i in range(1,101):\n",
    "    print(i)"
   ]
  },
  {
   "source": [
    "3. 数値の格納されたリストdataの内容をすべて10倍した結果を変数data2に格納する（リスト内包表記を利用すること）"
   ],
   "cell_type": "markdown",
   "metadata": {}
  },
  {
   "cell_type": "code",
   "execution_count": 15,
   "metadata": {},
   "outputs": [],
   "source": [
    "data2 = [i * 10 for i in data]"
   ]
  },
  {
   "source": [
    "4. 数値が格納されたリストdataから値が0以上のものだけを取り出して、合計値を求める（リスト内包表記を利用すること）"
   ],
   "cell_type": "markdown",
   "metadata": {}
  },
  {
   "cell_type": "code",
   "execution_count": 3,
   "metadata": {},
   "outputs": [],
   "source": [
    "result = sum([ i for i in data if i >= 0])"
   ]
  },
  {
   "source": [
    "5. 変数numが10以上50未満のときに、numの値を表示する"
   ],
   "cell_type": "markdown",
   "metadata": {}
  },
  {
   "cell_type": "code",
   "execution_count": 6,
   "metadata": {},
   "outputs": [],
   "source": [
    "num = 0\n",
    "if 10 <= num < 50:\n",
    "    print( num)\n"
   ]
  },
  {
   "source": [
    "## \\[3\\] リスト4.Aは、ユーザーから入力された数値を受け取って、その値を1.5倍したものを返すためのコードです。引数に数値以外が渡された場合は、エラーメッセージを表示したうえで何度も入力を求めます。空欄を埋めて、コードを完成させてください。"
   ],
   "cell_type": "markdown",
   "metadata": {}
  },
  {
   "cell_type": "code",
   "execution_count": 1,
   "metadata": {},
   "outputs": [
    {
     "output_type": "stream",
     "name": "stdout",
     "text": [
      "1.5倍すると... 1.5\n"
     ]
    }
   ],
   "source": [
    "while True:\n",
    "    try:\n",
    "        num = input('数字を入力してください：')\n",
    "        print('1.5倍すると...', float(num) * 1.5)\n",
    "    except ValueError:\n",
    "        print('入力値エラーです。')\n",
    "    else:\n",
    "        break"
   ]
  },
  {
   "source": [
    "## \\[4\\] for命令とcontinue命令とを使って、100～200の範囲にある気数値の合計を求めてみましょう。"
   ],
   "cell_type": "markdown",
   "metadata": {}
  },
  {
   "cell_type": "code",
   "execution_count": 6,
   "metadata": {},
   "outputs": [
    {
     "output_type": "stream",
     "name": "stdout",
     "text": [
      "7500\n"
     ]
    }
   ],
   "source": [
    "result = 0\n",
    "for i in range(100, 201):\n",
    "    if i % 2 == 0:\n",
    "        continue \n",
    "    result += i\n",
    "print(result)"
   ]
  },
  {
   "source": [
    "## \\[5\\] 変数languageの値が「Python」「Perl」「Ruby」であれば「インタプリター言語」、「C#」「c++」「Java」であれば「コンパイル言語」、さもなくば「不明」とするコードを作成してください。\n",
    "### ヒント：ある要素がリストの中に含まれるかを判定するにはin演算子を用います。"
   ],
   "cell_type": "markdown",
   "metadata": {}
  },
  {
   "cell_type": "code",
   "execution_count": 10,
   "metadata": {},
   "outputs": [
    {
     "output_type": "stream",
     "name": "stdout",
     "text": [
      "不明\n"
     ]
    }
   ],
   "source": [
    "language = input('プログラミング言語を入力してください。')\n",
    "if language in ('Python', 'Perl', 'Ruby'):\n",
    "    print('インタープリター言語')\n",
    "elif language in ('C#', \"Perl\", \"Java\"):\n",
    "    print('コンパイル言語')\n",
    "else:\n",
    "    print('不明')"
   ]
  },
  {
   "cell_type": "code",
   "execution_count": null,
   "metadata": {},
   "outputs": [],
   "source": []
  }
 ]
}