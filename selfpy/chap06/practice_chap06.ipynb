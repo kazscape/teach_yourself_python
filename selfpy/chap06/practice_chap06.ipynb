{
 "metadata": {
  "language_info": {
   "codemirror_mode": {
    "name": "ipython",
    "version": 3
   },
   "file_extension": ".py",
   "mimetype": "text/x-python",
   "name": "python",
   "nbconvert_exporter": "python",
   "pygments_lexer": "ipython3",
   "version": "3.7.6-final"
  },
  "orig_nbformat": 2,
  "kernelspec": {
   "name": "python3",
   "display_name": "Python 3",
   "language": "python"
  }
 },
 "nbformat": 4,
 "nbformat_minor": 2,
 "cells": [
  {
   "source": [
    "# 練習問題 6.1"
   ],
   "cell_type": "markdown",
   "metadata": {}
  },
  {
   "source": [
    "## \\[1\\] 表6.Aは、コレクション型に関する説明です。空欄を埋めて、表を完成させてください。"
   ],
   "cell_type": "markdown",
   "metadata": {}
  },
  {
   "source": [
    "|型名|概要|\n",
    "|---|---|\n",
    "|シーケンス型|順に並んだ値を扱うための型。要素は重複**可能**で、型が異なっていてもよい。|\n",
    "|セット型|数字の集合の概念に近い型。要素は順番を持たず、値の重複は不可能|\n",
    "|辞書（マッピング）型|キーと値の組みで要素を管理する型。値は重複可能だがキーは重複できない。|"
   ],
   "cell_type": "markdown",
   "metadata": {}
  },
  {
   "source": [
    "## \\[2\\] リスト6.Aは、リストを新規に作成して、その内容を更新した後、一覧表示する例です。空欄を埋めて、コードを完成させてください。"
   ],
   "cell_type": "markdown",
   "metadata": {}
  },
  {
   "cell_type": "code",
   "execution_count": 5,
   "metadata": {},
   "outputs": [
    {
     "output_type": "stream",
     "name": "stdout",
     "text": [
      "0 : 15\n1 : 20\n2 : 30\n3 : 50\n4 : 60\n5 : 90\n"
     ]
    }
   ],
   "source": [
    "data1 = [10,15,30]\n",
    "data2 = [60,90]\n",
    "data1.pop(0)\n",
    "data1.append(50)\n",
    "data1.insert(1,20)\n",
    "data3 = data1 + data2\n",
    "for index,value in enumerate(data3):\n",
    "    print(index,':',value)"
   ]
  },
  {
   "source": [
    "# 練習問題 6.2"
   ],
   "cell_type": "markdown",
   "metadata": {}
  },
  {
   "source": [
    "## \\[1\\] 「10、105、30、7」「105、28、32、7」という集合を作成し、その積集合を求めるためのコードを作成してみましょう。"
   ],
   "cell_type": "markdown",
   "metadata": {}
  },
  {
   "cell_type": "code",
   "execution_count": 8,
   "metadata": {},
   "outputs": [
    {
     "output_type": "stream",
     "name": "stdout",
     "text": [
      "{105, 7}\n"
     ]
    }
   ],
   "source": [
    "set1 = {10,105,30,7}\n",
    "set2 = {105,28,32,7}\n",
    "print(set1.intersection(set2))"
   ]
  },
  {
   "source": [
    "# 理解度チェック"
   ],
   "cell_type": "markdown",
   "metadata": {}
  },
  {
   "source": [
    "## \\[1\\] 次の文章は、コレクションについて説明したものです。正しいものには〇、誤っているものには×をつけてください。\n",
    "### \\[×\\] リスト型のappend／popメソッドによる挿入／削除は、挿入／削除する位置に関わらずほぼ一定のスピードで可能である。\n",
    "### \\[×\\] collections.deque型を利用した先頭／末尾への挿入／削除は、比較的低速である。\n",
    "### \\[×\\] セット型は要素の重複を許さず、一意の値を一定の順序で保持する。\n",
    "### \\[×\\] 辞書型のキーとして指定できるのはstr型、tuple型だけである。\n",
    "### \\[×\\] スタックは先入れ先出し、キューは後入れ先出しと呼ばれるデータ構造である。\n",
    "\n"
   ],
   "cell_type": "markdown",
   "metadata": {}
  },
  {
   "source": [
    "## \\[2\\] リスト6.Bは辞書を初期化、操作した結果を出力するためのコードです。空欄を埋めて、コードを完成させてください。"
   ],
   "cell_type": "markdown",
   "metadata": {}
  },
  {
   "cell_type": "code",
   "execution_count": 18,
   "metadata": {},
   "outputs": [
    {
     "output_type": "stream",
     "name": "stdout",
     "text": [
      "('cucumber', '胡瓜')\n('lettuce', 'レタス')\n('carrot', 'ニンジン')\n"
     ]
    }
   ],
   "source": [
    "d = {'cucumber':'きゅうり','lettuce':'レタス','spinach':'ホウレンソウ'}\n",
    "d['cucumber'] = '胡瓜'\n",
    "d.pop('spinach')\n",
    "d.setdefault('carrot','ニンジン')\n",
    "for item in d.items():\n",
    "    print(item)"
   ]
  },
  {
   "source": [
    "## \\[3\\] リスト6.Cはセットを利用したコードですが、誤りが3点あります。これを指摘してください。"
   ],
   "cell_type": "markdown",
   "metadata": {}
  },
  {
   "source": [
    "```\n",
    "sets1 = [2,4,8,16,32]\n",
    "sets2 = [1,10,4,16]\n",
    "\n",
    "print(set1.defference(set2)) # 結果:{32,1,2,4,8,10,16}\n",
    "set3 = {str(i) while i in sets1 if i > 5}\n",
    "print(sets3) # 結果:{'32','8','16'}\n",
    "```"
   ],
   "cell_type": "markdown",
   "metadata": {}
  },
  {
   "source": [
    "### 1. セットの生成は{...}\n",
    "### 2. 結果からみて、和集合。和集合ならunion\n",
    "### 3. whileではなく、for"
   ],
   "cell_type": "markdown",
   "metadata": {}
  },
  {
   "cell_type": "code",
   "execution_count": 23,
   "metadata": {},
   "outputs": [
    {
     "output_type": "stream",
     "name": "stdout",
     "text": [
      "{32, 1, 2, 4, 8, 10, 16}\n{'32', '8', '16'}\n"
     ]
    }
   ],
   "source": [
    "sets1 = {2,4,8,16,32}\n",
    "sets2 = {1,10,4,16}\n",
    "\n",
    "print(sets1.union(sets2))\n",
    "sets3 = {str(i) for i in sets1 if i > 5}\n",
    "print(sets3)"
   ]
  },
  {
   "source": [
    "## \\[4\\] 次のようなコードを実際に作成してください。"
   ],
   "cell_type": "markdown",
   "metadata": {}
  },
  {
   "source": [
    "### 1. 辞書dからキーappleにアクセスする（ただし、キーが存在しない場合は規定値「-」を返す。）"
   ],
   "cell_type": "markdown",
   "metadata": {}
  },
  {
   "cell_type": "code",
   "execution_count": 34,
   "metadata": {},
   "outputs": [
    {
     "output_type": "stream",
     "name": "stdout",
     "text": [
      "-\n"
     ]
    }
   ],
   "source": [
    "data = {}\n",
    "print(data.get('apple','-'))"
   ]
  },
  {
   "source": [
    "## 2. リストdataからすべての「×」を削除する（リスト内包表記を利用すること）。"
   ],
   "cell_type": "markdown",
   "metadata": {}
  },
  {
   "source": [
    "data = ['○','△','×','□','×']\n",
    "data = [elem for elem in data if elem != '×']\n",
    "print(data)"
   ],
   "cell_type": "code",
   "metadata": {},
   "execution_count": 28,
   "outputs": [
    {
     "output_type": "stream",
     "name": "stdout",
     "text": [
      "['○', '△', '□']\n"
     ]
    }
   ]
  },
  {
   "source": [
    "## 3. リストdataから0～2番目の要素を削除する。"
   ],
   "cell_type": "markdown",
   "metadata": {}
  },
  {
   "cell_type": "code",
   "execution_count": 29,
   "metadata": {},
   "outputs": [
    {
     "output_type": "stream",
     "name": "stdout",
     "text": [
      "['×', '□', '×']\n"
     ]
    }
   ],
   "source": [
    "data = ['○','△','×','□','×']\n",
    "data[0:3] = []\n",
    "print(data)"
   ]
  },
  {
   "source": [
    "## 4. 単一の要素「いろは」を持つタプルtを作成する"
   ],
   "cell_type": "markdown",
   "metadata": {}
  },
  {
   "cell_type": "code",
   "execution_count": 35,
   "metadata": {},
   "outputs": [
    {
     "output_type": "stream",
     "name": "stdout",
     "text": [
      "('いろは',)\n"
     ]
    }
   ],
   "source": [
    "t = ('いろは',)\n",
    "print(t)"
   ]
  },
  {
   "source": [
    "## 5. 辞書dの内容を「キー名=値」の形式で列挙する。\n"
   ],
   "cell_type": "markdown",
   "metadata": {}
  },
  {
   "cell_type": "code",
   "execution_count": 33,
   "metadata": {},
   "outputs": [
    {
     "output_type": "stream",
     "name": "stdout",
     "text": [
      "cucumber = きゅうり\nlettuce = レタス\nspinach = ホウレンソウ\n"
     ]
    }
   ],
   "source": [
    "d = {'cucumber':'きゅうり','lettuce':'レタス','spinach':'ホウレンソウ'}\n",
    "for key, value in d.items():\n",
    "    print(key,'=',value)"
   ]
  },
  {
   "cell_type": "code",
   "execution_count": null,
   "metadata": {},
   "outputs": [],
   "source": []
  }
 ]
}