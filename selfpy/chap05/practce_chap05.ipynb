{
 "metadata": {
  "language_info": {
   "codemirror_mode": {
    "name": "ipython",
    "version": 3
   },
   "file_extension": ".py",
   "mimetype": "text/x-python",
   "name": "python",
   "nbconvert_exporter": "python",
   "pygments_lexer": "ipython3",
   "version": "3.7.6-final"
  },
  "orig_nbformat": 2,
  "kernelspec": {
   "name": "python3",
   "display_name": "Python 3",
   "language": "python"
  }
 },
 "nbformat": 4,
 "nbformat_minor": 2,
 "cells": [
  {
   "source": [
    "# 練習問題 5.1"
   ],
   "cell_type": "markdown",
   "metadata": {}
  },
  {
   "source": [
    "## \\[1\\] 位置引数とキーワード引数について、print関数を例に説明してください。\n"
   ],
   "cell_type": "markdown",
   "metadata": {}
  },
  {
   "source": [
    "name = 'yamauchi'\n",
    "print('Hello', 'name', 'さん！', sep='+', end=' ') "
   ],
   "cell_type": "code",
   "metadata": {},
   "execution_count": 1,
   "outputs": [
    {
     "output_type": "stream",
     "name": "stdout",
     "text": [
      "Hello+name+さん！ "
     ]
    }
   ]
  },
  {
   "source": [
    "「値,...」のように値を列挙するだけの引数を位置関数、「名前=値,...」形式の引数をキーワード引数"
   ],
   "cell_type": "markdown",
   "metadata": {}
  },
  {
   "source": [
    "## \\[2\\] メソッドについて、「型」という言葉を使って簡単に説明してください。"
   ],
   "cell_type": "markdown",
   "metadata": {}
  },
  {
   "source": [
    "### 型は専用の関数を持っていて、型に属さない関数と区別してメソッドと呼ぶ"
   ],
   "cell_type": "markdown",
   "metadata": {}
  },
  {
   "source": [
    "# 練習問題 5.2"
   ],
   "cell_type": "markdown",
   "metadata": {}
  },
  {
   "source": [
    "## \\[1\\] スライス構文を利用して、文字列「プログラミング言語」から「ミング」という文字を抜き出してみましょう"
   ],
   "cell_type": "markdown",
   "metadata": {}
  },
  {
   "cell_type": "code",
   "execution_count": 2,
   "metadata": {},
   "outputs": [
    {
     "output_type": "stream",
     "name": "stdout",
     "text": [
      "ミング\n"
     ]
    }
   ],
   "source": [
    "data = 'プログラミング言語'\n",
    "print(data[4:7])"
   ]
  },
  {
   "source": [
    "## \\[2\\] splitメソッドを利用して、「鈴木\\t太郎\\t男\\t50歳\\t広島県」のようなテキストをタブで分割した後、その結果を「&」で連結したものを出力してみましょう。"
   ],
   "cell_type": "markdown",
   "metadata": {}
  },
  {
   "cell_type": "code",
   "execution_count": 11,
   "metadata": {},
   "outputs": [
    {
     "output_type": "stream",
     "name": "stdout",
     "text": [
      "鈴木&太郎&男&50歳&広島県\n"
     ]
    }
   ],
   "source": [
    "data = '鈴木\\t太郎\\t男\\t50歳\\t広島県'\n",
    "print('&'.join(data.split(sep='\\t')))"
   ]
  },
  {
   "source": [
    "# 練習問題 5.3"
   ],
   "cell_type": "markdown",
   "metadata": {}
  },
  {
   "source": [
    "## \\[1\\] 現在の日時を取得し、そこから「月」と「分」だけを表示してみましょう"
   ],
   "cell_type": "markdown",
   "metadata": {}
  },
  {
   "cell_type": "code",
   "execution_count": 4,
   "metadata": {},
   "outputs": [
    {
     "output_type": "stream",
     "name": "stdout",
     "text": [
      "12\n12\n"
     ]
    }
   ],
   "source": [
    "import datetime\n",
    "\n",
    "dt = datetime.datetime.now()\n",
    "print(dt.month)\n",
    "print(dt.minute)"
   ]
  },
  {
   "source": [
    "# 理解度チェック"
   ],
   "cell_type": "markdown",
   "metadata": {}
  },
  {
   "source": [
    "## \\[1\\] 以下はPythonの型に関する説明です。空欄を埋めて、文章を完成させてください。"
   ],
   "cell_type": "markdown",
   "metadata": {}
  },
  {
   "source": [
    "### 型とは、コードの中で扱える値の種類を決めるための仕組みです。型に具体的な値を与えて、コードの中で利用できるようにすることを**インスタンス化**、型に基づいて作られた具体的な値のことを**インスタンス（またはオブジェクト）**と呼びます。たとえば、datetime.date型の「**datatime.date**(2020,6,25)」と書きます。型に属する関数のことを**メソッド**と呼び、「インスタンス**.**メソッド(...)」の形式で呼び出せます。"
   ],
   "cell_type": "markdown",
   "metadata": {}
  },
  {
   "source": [
    "## \\[2\\] 図5.Aはスライス構文を解説した図です。空欄に対応する式を埋めて、図を完成させてください。\n",
    "![図5.A](./slice_image.png)\n",
    "### 1. title\\[2\\]\n",
    "### 2. title\\[2:5\\]\n",
    "### 3. title\\[2:\\]\n",
    "### 4. title\\[-7:-5\\]\n",
    "### 5. title\\[::2\\]"
   ],
   "cell_type": "markdown",
   "metadata": {}
  },
  {
   "source": [
    "## \\[3\\] リスト5.Aは、2020年12月４日11時37分20秒（タイムゾーンは+09:00)を表すdatetimeオブジェクトを生成し、その値を「●○年●○月●○日●○時」の形式で出力するコードです。空欄を埋めて、コードを完成させてください。"
   ],
   "cell_type": "markdown",
   "metadata": {}
  },
  {
   "cell_type": "code",
   "execution_count": 13,
   "metadata": {},
   "outputs": [
    {
     "output_type": "stream",
     "name": "stdout",
     "text": [
      "2020年12月04日11時\n"
     ]
    }
   ],
   "source": [
    "import datetime\n",
    "import locale\n",
    "\n",
    "#locale.setlocale(locale.LC_ALL, 'ja_JP.UTF-8')\n",
    "dt = datetime.datetime(2020,12,4,11,37,20,0,\n",
    "    datetime.timezone(datetime.timedelta(hours=9)))\n",
    "print(dt.strftime('%Y年%m月%d日%I時'))"
   ]
  },
  {
   "source": [
    "## \\[4\\] 文字列や日付／時刻の操作に関する問題です。以下のようなコードを書いてみましょう。"
   ],
   "cell_type": "markdown",
   "metadata": {}
  },
  {
   "source": [
    "### 1. 文字列「となりのきゃくはよくきゃくくうきゃくだ」の最後に登場する「きゃく」の位置を検索する。"
   ],
   "cell_type": "markdown",
   "metadata": {}
  },
  {
   "cell_type": "code",
   "execution_count": 16,
   "metadata": {},
   "outputs": [
    {
     "output_type": "stream",
     "name": "stdout",
     "text": [
      "15\n"
     ]
    }
   ],
   "source": [
    "msg = 'となりのきゃくはよくきゃくくうきゃくだ'\n",
    "\n",
    "print(msg.rfind('きゃく'))"
   ]
  },
  {
   "source": [
    "### 2. 文字列「●○の気温は●○℃です。」という書式文字列に「千葉」「17.256」という数値を埋め込む。ただし、数値は小数点以下2桁までを表示すること。"
   ],
   "cell_type": "markdown",
   "metadata": {}
  },
  {
   "cell_type": "code",
   "execution_count": 25,
   "metadata": {},
   "outputs": [
    {
     "output_type": "stream",
     "name": "stdout",
     "text": [
      "千葉の気温は17.26℃です。\n"
     ]
    }
   ],
   "source": [
    "print('{0}の気温は{1:.2f}℃です。'.format('千葉',17.256))"
   ]
  },
  {
   "source": [
    "### \\[3\\] 文字列「彼女の名前は花子です。」に含まれる「彼女」を「妻」に置き換える。\n"
   ],
   "cell_type": "markdown",
   "metadata": {}
  },
  {
   "cell_type": "code",
   "execution_count": 26,
   "metadata": {},
   "outputs": [
    {
     "output_type": "stream",
     "name": "stdout",
     "text": [
      "妻の名前は花子です。\n"
     ]
    }
   ],
   "source": [
    "msg = '彼女の名前は花子です。'\n",
    "\n",
    "print(msg.replace('彼女','妻'))"
   ]
  },
  {
   "source": [
    "### 現在の日時を基点に5日と6時間後の日時を求める。"
   ],
   "cell_type": "markdown",
   "metadata": {}
  },
  {
   "cell_type": "code",
   "execution_count": 28,
   "metadata": {},
   "outputs": [
    {
     "output_type": "stream",
     "name": "stdout",
     "text": [
      "2020-12-30 18:29:09.805301\n"
     ]
    }
   ],
   "source": [
    "import datetime\n",
    "\n",
    "dt = datetime.datetime.now()\n",
    "print(dt + datetime.timedelta(days=5,hours=6))"
   ]
  },
  {
   "source": [
    "### \\[5\\] 2020年10月のカレンダーを日曜日始まりで文字幅5で出力する。"
   ],
   "cell_type": "markdown",
   "metadata": {}
  },
  {
   "cell_type": "code",
   "execution_count": 30,
   "metadata": {},
   "outputs": [
    {
     "output_type": "stream",
     "name": "stdout",
     "text": [
      "               October 2020\n Sun   Mon   Tue   Wed   Thu   Fri   Sat\n                           1     2     3\n   4     5     6     7     8     9    10\n  11    12    13    14    15    16    17\n  18    19    20    21    22    23    24\n  25    26    27    28    29    30    31\n\n"
     ]
    }
   ],
   "source": [
    "import calendar\n",
    "\n",
    "calendar.setfirstweekday(6)\n",
    "print(calendar.month(2020,10,5))"
   ]
  },
  {
   "cell_type": "code",
   "execution_count": null,
   "metadata": {},
   "outputs": [],
   "source": []
  }
 ]
}