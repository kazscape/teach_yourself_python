{
 "metadata": {
  "language_info": {
   "codemirror_mode": {
    "name": "ipython",
    "version": 3
   },
   "file_extension": ".py",
   "mimetype": "text/x-python",
   "name": "python",
   "nbconvert_exporter": "python",
   "pygments_lexer": "ipython3",
   "version": "3.7.6-final"
  },
  "orig_nbformat": 2,
  "kernelspec": {
   "name": "python3",
   "display_name": "Python 3",
   "language": "python"
  }
 },
 "nbformat": 4,
 "nbformat_minor": 2,
 "cells": [
  {
   "source": [
    "# 練習問題 5.1"
   ],
   "cell_type": "markdown",
   "metadata": {}
  },
  {
   "source": [
    "## \\[1\\] 位置引数とキーワード引数について、print関数を例に説明してください。\n"
   ],
   "cell_type": "markdown",
   "metadata": {}
  },
  {
   "source": [
    "name = 'yamauchi'\n",
    "print('Hello', 'name', 'さん！', sep='+', end=' ') "
   ],
   "cell_type": "code",
   "metadata": {},
   "execution_count": 1,
   "outputs": [
    {
     "output_type": "stream",
     "name": "stdout",
     "text": [
      "Hello+name+さん！ "
     ]
    }
   ]
  },
  {
   "source": [
    "「値,...」のように値を列挙するだけの引数を位置関数、「名前=値,...」形式の引数をキーワード引数"
   ],
   "cell_type": "markdown",
   "metadata": {}
  },
  {
   "source": [
    "## \\[2\\] メソッドについて、「型」という言葉を使って簡単に説明してください。"
   ],
   "cell_type": "markdown",
   "metadata": {}
  },
  {
   "source": [
    "### 型は専用の関数を持っていて、型に属さない関数と区別してメソッドと呼ぶ"
   ],
   "cell_type": "markdown",
   "metadata": {}
  },
  {
   "source": [
    "# 練習問題 5.2"
   ],
   "cell_type": "markdown",
   "metadata": {}
  },
  {
   "source": [
    "## \\[1\\] スライス構文を利用して、文字列「プログラミング言語」から「ミング」という文字を抜き出してみましょう"
   ],
   "cell_type": "markdown",
   "metadata": {}
  },
  {
   "cell_type": "code",
   "execution_count": 2,
   "metadata": {},
   "outputs": [
    {
     "output_type": "stream",
     "name": "stdout",
     "text": [
      "ミング\n"
     ]
    }
   ],
   "source": [
    "data = 'プログラミング言語'\n",
    "print(data[4:7])"
   ]
  },
  {
   "source": [
    "## \\[2\\] splitメソッドを利用して、「鈴木\\t太郎\\t男\\t50歳\\t広島県」のようなテキストをタブで分割した後、その結果を「&」で連結したものを出力してみましょう。"
   ],
   "cell_type": "markdown",
   "metadata": {}
  },
  {
   "cell_type": "code",
   "execution_count": 11,
   "metadata": {},
   "outputs": [
    {
     "output_type": "stream",
     "name": "stdout",
     "text": [
      "鈴木&太郎&男&50歳&広島県\n"
     ]
    }
   ],
   "source": [
    "data = '鈴木\\t太郎\\t男\\t50歳\\t広島県'\n",
    "print('&'.join(data.split(sep='\\t')))"
   ]
  },
  {
   "cell_type": "code",
   "execution_count": null,
   "metadata": {},
   "outputs": [],
   "source": []
  }
 ]
}